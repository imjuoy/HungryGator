{
 "cells": [
  {
   "cell_type": "code",
   "execution_count": 1,
   "metadata": {
    "collapsed": true
   },
   "outputs": [],
   "source": [
    "import io, time, json\n",
    "import requests\n",
    "from bs4 import BeautifulSoup\n",
    "import pandas as pd"
   ]
  },
  {
   "cell_type": "code",
   "execution_count": 2,
   "metadata": {
    "collapsed": true
   },
   "outputs": [],
   "source": [
    "def read_api_key(filepath):\n",
    "    \"\"\"\n",
    "    Read the Yelp API Key from file.\n",
    "    \n",
    "    Args:\n",
    "        filepath (string): File containing API Key\n",
    "    Returns:\n",
    "        api_key (string): The API Key\n",
    "    \"\"\"\n",
    "    \n",
    "    # feel free to modify this function if you are storing the API Key differently\n",
    "    with open('api_key.txt', 'r') as f:\n",
    "        return f.read().replace('\\n','')"
   ]
  },
  {
   "cell_type": "code",
   "execution_count": 3,
   "metadata": {
    "collapsed": true
   },
   "outputs": [],
   "source": [
    "def all_restaurants(api_key, query):\n",
    "    \"\"\"\n",
    "    Retrieve ALL the restaurants on Yelp for a given query.\n",
    "\n",
    "    Args:\n",
    "        query (string): Search term\n",
    "\n",
    "    Returns:\n",
    "        results (list): list of dicts representing each business\n",
    "    \"\"\"\n",
    "    \n",
    "    # Write solution here\n",
    "    offsetno=0\n",
    "    total =0\n",
    "    output=[]\n",
    "    headers = {        \n",
    "        \"authorization\": 'Bearer %s' % api_key, # for the yelp API     \n",
    "    }\n",
    "    while (offsetno<=total):\n",
    "        params = { #parameters are case sensitive!\n",
    "            \"location\": query,\n",
    "            \"limit\": 20,\n",
    "            \"offset\": offsetno,\n",
    "            \"categories\": \"restaurants\"\n",
    "            \n",
    "        }\n",
    "    \n",
    "        response = requests.get('https://api.yelp.com/v3/businesses/search',\n",
    "                            headers=headers, params=params)\n",
    "        result = response.json()\n",
    "        try:\n",
    "            output.append( result['businesses'])\n",
    "        except KeyError:\n",
    "            print(result)\n",
    "            return output\n",
    "        offsetno =offsetno + 20\n",
    "        total = result['total']\n",
    "        print (offsetno)\n",
    "        print (len(output))\n",
    "    return(output)    "
   ]
  },
  {
   "cell_type": "code",
   "execution_count": null,
   "metadata": {},
   "outputs": [
    {
     "name": "stdout",
     "output_type": "stream",
     "text": [
      "20\n",
      "1\n",
      "40\n",
      "2\n",
      "60\n",
      "3\n",
      "80\n",
      "4\n",
      "100\n",
      "5\n",
      "120\n",
      "6\n",
      "140\n",
      "7\n",
      "160\n",
      "8\n",
      "180\n",
      "9\n",
      "200\n",
      "10\n",
      "220\n",
      "11\n",
      "240\n",
      "12\n",
      "260\n",
      "13\n",
      "280\n",
      "14\n",
      "300\n",
      "15\n",
      "320\n",
      "16\n",
      "340\n",
      "17\n",
      "360\n",
      "18\n",
      "380\n",
      "19\n",
      "400\n",
      "20\n",
      "420\n",
      "21\n",
      "440\n",
      "22\n",
      "460\n",
      "23\n",
      "480\n",
      "24\n",
      "500\n",
      "25\n",
      "520\n",
      "26\n",
      "540\n",
      "27\n",
      "560\n",
      "28\n",
      "580\n",
      "29\n",
      "600\n",
      "30\n",
      "620\n",
      "31\n",
      "640\n",
      "32\n"
     ]
    }
   ],
   "source": [
    "api_key = read_api_key('api_key.txt')\n",
    "data = all_restaurants(api_key, 'Miami')"
   ]
  },
  {
   "cell_type": "code",
   "execution_count": 69,
   "metadata": {
    "collapsed": true,
    "scrolled": true
   },
   "outputs": [],
   "source": [
    "new_data = {}\n",
    "new_data[\"name\"]=[]\n",
    "new_data[\"rating\"]=[]\n",
    "new_data[\"price\"]=[]\n",
    "new_data[\"review_count\"]=[]\n",
    "new_data[\"url\"]=[]\n",
    "new_data[\"category\"]=[]\n",
    "alldata=[]\n",
    "for i in data:\n",
    "    for each in i:\n",
    "        new_data[\"name\"].append(each[\"name\"])\n",
    "        new_data[\"rating\"].append(each[\"rating\"])\n",
    "        new_data[\"url\"].append(each[\"url\"])\n",
    "        try:\n",
    "            new_data[\"price\"].append(each[\"price\"])\n",
    "        except KeyError:\n",
    "            new_data[\"price\"].append(None)\n",
    "\n",
    "        new_data[\"review_count\"].append(each[\"review_count\"])\n",
    "        new_data[\"category\"].append(each[\"categories\"][0][\"title\"])\n",
    "        alldata.append(each)\n",
    "    \n"
   ]
  },
  {
   "cell_type": "code",
   "execution_count": 21,
   "metadata": {
    "collapsed": true
   },
   "outputs": [],
   "source": [
    "df = pd.DataFrame(new_data)\n",
    "df.to_csv(\"Miami_Yelp.csv\",index=False)"
   ]
  },
  {
   "cell_type": "code",
   "execution_count": 72,
   "metadata": {
    "collapsed": true
   },
   "outputs": [],
   "source": [
    "df_all = pd.DataFrame(alldata)\n",
    "df_all.to_csv(\"Miami_raw.csv\",index=False)"
   ]
  },
  {
   "cell_type": "code",
   "execution_count": null,
   "metadata": {
    "collapsed": true
   },
   "outputs": [],
   "source": []
  }
 ],
 "metadata": {
  "kernelspec": {
   "display_name": "Python 3",
   "language": "python",
   "name": "python3"
  },
  "language_info": {
   "codemirror_mode": {
    "name": "ipython",
    "version": 3
   },
   "file_extension": ".py",
   "mimetype": "text/x-python",
   "name": "python",
   "nbconvert_exporter": "python",
   "pygments_lexer": "ipython3",
   "version": "3.6.3"
  }
 },
 "nbformat": 4,
 "nbformat_minor": 2
}
