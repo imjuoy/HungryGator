{
 "cells": [
  {
   "cell_type": "code",
   "execution_count": 2,
   "metadata": {
    "collapsed": true
   },
   "outputs": [],
   "source": [
    "import pandas as pd"
   ]
  },
  {
   "cell_type": "code",
   "execution_count": 5,
   "metadata": {},
   "outputs": [],
   "source": [
    "data = pd.read_csv('C:/Users/devdi/Desktop/CMU/Final Mini/Python for Data Science/Project/TripAdvisor_Data.csv')"
   ]
  },
  {
   "cell_type": "code",
   "execution_count": 6,
   "metadata": {},
   "outputs": [
    {
     "name": "stdout",
     "output_type": "stream",
     "text": [
      "<class 'pandas.core.frame.DataFrame'>\n",
      "RangeIndex: 18000 entries, 0 to 17999\n",
      "Data columns (total 28 columns):\n",
      "Restaurant ID         18000 non-null object\n",
      "Restaurant URL        17994 non-null object\n",
      "Name                  17991 non-null object\n",
      "Address               17978 non-null object\n",
      "Phone                 15566 non-null object\n",
      "City                  17004 non-null object\n",
      "State                 17993 non-null object\n",
      "Country               17996 non-null object\n",
      "Neighbourhood         650 non-null object\n",
      "Email ID              858 non-null object\n",
      "Menu                  0 non-null float64\n",
      "Website               8576 non-null object\n",
      "Latitude              17442 non-null float64\n",
      "Longitude             17442 non-null float64\n",
      "About Restaurant      937 non-null object\n",
      "Cuisine               7553 non-null object\n",
      "Good for(suitable)    1199 non-null object\n",
      "Price                 1704 non-null object\n",
      "Currency              1701 non-null object\n",
      "Rating                8 non-null object\n",
      "Ranking               10133 non-null object\n",
      "Deal(Promotion)       0 non-null float64\n",
      "Total Review          10661 non-null float64\n",
      "Last Reviewed         10494 non-null object\n",
      "Recommended           0 non-null float64\n",
      "Dining Option         2199 non-null object\n",
      "Award                 718 non-null object\n",
      "Uniq Id               18000 non-null object\n",
      "dtypes: float64(6), object(22)\n",
      "memory usage: 3.8+ MB\n"
     ]
    }
   ],
   "source": [
    "data.info()"
   ]
  },
  {
   "cell_type": "code",
   "execution_count": 9,
   "metadata": {
    "collapsed": true
   },
   "outputs": [],
   "source": [
    "cleaned_data = data[data[\"City\"]==\"Miami\"]"
   ]
  },
  {
   "cell_type": "code",
   "execution_count": 10,
   "metadata": {},
   "outputs": [
    {
     "name": "stdout",
     "output_type": "stream",
     "text": [
      "<class 'pandas.core.frame.DataFrame'>\n",
      "Int64Index: 1248 entries, 12692 to 17203\n",
      "Data columns (total 28 columns):\n",
      "Restaurant ID         1248 non-null object\n",
      "Restaurant URL        1248 non-null object\n",
      "Name                  1248 non-null object\n",
      "Address               1247 non-null object\n",
      "Phone                 1174 non-null object\n",
      "City                  1248 non-null object\n",
      "State                 1248 non-null object\n",
      "Country               1248 non-null object\n",
      "Neighbourhood         110 non-null object\n",
      "Email ID              70 non-null object\n",
      "Menu                  0 non-null float64\n",
      "Website               546 non-null object\n",
      "Latitude              1240 non-null float64\n",
      "Longitude             1240 non-null float64\n",
      "About Restaurant      76 non-null object\n",
      "Cuisine               383 non-null object\n",
      "Good for(suitable)    76 non-null object\n",
      "Price                 136 non-null object\n",
      "Currency              136 non-null object\n",
      "Rating                0 non-null object\n",
      "Ranking               613 non-null object\n",
      "Deal(Promotion)       0 non-null float64\n",
      "Total Review          643 non-null float64\n",
      "Last Reviewed         639 non-null object\n",
      "Recommended           0 non-null float64\n",
      "Dining Option         138 non-null object\n",
      "Award                 43 non-null object\n",
      "Uniq Id               1248 non-null object\n",
      "dtypes: float64(6), object(22)\n",
      "memory usage: 282.8+ KB\n"
     ]
    }
   ],
   "source": [
    "cleaned_data.info()"
   ]
  },
  {
   "cell_type": "code",
   "execution_count": 11,
   "metadata": {
    "collapsed": true
   },
   "outputs": [],
   "source": [
    "cleaned_data = cleaned_data.loc[:,[\"Restaurant ID\", \"Restaurant URL\",\"Name\",\"Address\",\"Ranking\",\"Total Review\"]]"
   ]
  },
  {
   "cell_type": "code",
   "execution_count": 13,
   "metadata": {},
   "outputs": [
    {
     "data": {
      "text/html": [
       "<div>\n",
       "<style>\n",
       "    .dataframe thead tr:only-child th {\n",
       "        text-align: right;\n",
       "    }\n",
       "\n",
       "    .dataframe thead th {\n",
       "        text-align: left;\n",
       "    }\n",
       "\n",
       "    .dataframe tbody tr th {\n",
       "        vertical-align: top;\n",
       "    }\n",
       "</style>\n",
       "<table border=\"1\" class=\"dataframe\">\n",
       "  <thead>\n",
       "    <tr style=\"text-align: right;\">\n",
       "      <th></th>\n",
       "      <th>Restaurant ID</th>\n",
       "      <th>Restaurant URL</th>\n",
       "      <th>Name</th>\n",
       "      <th>Address</th>\n",
       "      <th>Ranking</th>\n",
       "      <th>Total Review</th>\n",
       "    </tr>\n",
       "  </thead>\n",
       "  <tbody>\n",
       "    <tr>\n",
       "      <th>12692</th>\n",
       "      <td>3397231</td>\n",
       "      <td>http://www.tripadvisor.in/Restaurant_Review-g3...</td>\n",
       "      <td>El Malecon Restaurant</td>\n",
       "      <td>5791 SW 137th avenue, Miami, FL</td>\n",
       "      <td>1,593 of 3,600</td>\n",
       "      <td>6.0</td>\n",
       "    </tr>\n",
       "    <tr>\n",
       "      <th>12693</th>\n",
       "      <td>4178105</td>\n",
       "      <td>http://www.tripadvisor.in/Restaurant_Review-g3...</td>\n",
       "      <td>Met Cafe and Bar</td>\n",
       "      <td>255 Biscayne Boulevard Way, Hotel Beaux Arts M...</td>\n",
       "      <td>778 of 3,600</td>\n",
       "      <td>10.0</td>\n",
       "    </tr>\n",
       "    <tr>\n",
       "      <th>12694</th>\n",
       "      <td>4181598</td>\n",
       "      <td>http://www.tripadvisor.in/Restaurant_Review-g3...</td>\n",
       "      <td>Pollo Tropical</td>\n",
       "      <td>8700 SW 40th St, Miami, FL 33165</td>\n",
       "      <td>NaN</td>\n",
       "      <td>NaN</td>\n",
       "    </tr>\n",
       "    <tr>\n",
       "      <th>12696</th>\n",
       "      <td>935499</td>\n",
       "      <td>http://www.tripadvisor.in/Restaurant_Review-g3...</td>\n",
       "      <td>Oriental Bakery &amp; Grocery Co</td>\n",
       "      <td>1760 SW 3rd Ave, Miami, FL 33129-1415</td>\n",
       "      <td>990 of 3,600</td>\n",
       "      <td>3.0</td>\n",
       "    </tr>\n",
       "    <tr>\n",
       "      <th>12697</th>\n",
       "      <td>4207564</td>\n",
       "      <td>http://www.tripadvisor.in/Restaurant_Review-g3...</td>\n",
       "      <td>El Nopal</td>\n",
       "      <td>22605 S Dixie Hwy, Miami, FL 33170</td>\n",
       "      <td>NaN</td>\n",
       "      <td>NaN</td>\n",
       "    </tr>\n",
       "  </tbody>\n",
       "</table>\n",
       "</div>"
      ],
      "text/plain": [
       "      Restaurant ID                                     Restaurant URL  \\\n",
       "12692       3397231  http://www.tripadvisor.in/Restaurant_Review-g3...   \n",
       "12693       4178105  http://www.tripadvisor.in/Restaurant_Review-g3...   \n",
       "12694       4181598  http://www.tripadvisor.in/Restaurant_Review-g3...   \n",
       "12696        935499  http://www.tripadvisor.in/Restaurant_Review-g3...   \n",
       "12697       4207564  http://www.tripadvisor.in/Restaurant_Review-g3...   \n",
       "\n",
       "                               Name  \\\n",
       "12692         El Malecon Restaurant   \n",
       "12693              Met Cafe and Bar   \n",
       "12694                Pollo Tropical   \n",
       "12696  Oriental Bakery & Grocery Co   \n",
       "12697                      El Nopal   \n",
       "\n",
       "                                                 Address         Ranking  \\\n",
       "12692                    5791 SW 137th avenue, Miami, FL  1,593 of 3,600   \n",
       "12693  255 Biscayne Boulevard Way, Hotel Beaux Arts M...    778 of 3,600   \n",
       "12694                   8700 SW 40th St, Miami, FL 33165             NaN   \n",
       "12696              1760 SW 3rd Ave, Miami, FL 33129-1415    990 of 3,600   \n",
       "12697                 22605 S Dixie Hwy, Miami, FL 33170             NaN   \n",
       "\n",
       "       Total Review  \n",
       "12692           6.0  \n",
       "12693          10.0  \n",
       "12694           NaN  \n",
       "12696           3.0  \n",
       "12697           NaN  "
      ]
     },
     "execution_count": 13,
     "metadata": {},
     "output_type": "execute_result"
    }
   ],
   "source": [
    "cleaned_data.head()"
   ]
  },
  {
   "cell_type": "code",
   "execution_count": 17,
   "metadata": {},
   "outputs": [
    {
     "name": "stderr",
     "output_type": "stream",
     "text": [
      "C:\\Users\\devdi\\Anaconda3\\lib\\site-packages\\xlsxwriter\\worksheet.py:830: UserWarning: Ignoring URL 'http://epc7.domaingateway.com/c?pid=11163370-367280&kw=writing restaurant reviews&c=ad3f7cf9c0b14d06a873a2f707811dfa-wuu.kf.3k.w3S%0972atQI%2FwU.f.3ws.kw+%28s.F.k.w%2C+aWA0+s.w.s+%28sfwk-fS-fu%29%29%09wkfwskswS4Uw4%09s4U%09A0%09zWLXIL2jWNIL%092vvRN%3A%2F%2FRw.oLvaEH.EtQ%2Fva%3Fqo%3DFUusuj33wSUEwEUuISIA33wAossOjsoOwOj4SSEI.a%09%5BLWii%5D%09f.fwUw%09f.fwUw%09%5BLWii%5D%09OjiNI%09Fkf%09wfS344ku4u%099TmhgD%09%5BLWii%5D%09aIQqLzvtLNtOAtNvtL.EtQ%09f%09w3s.wUu.f.w3k%09%5BLWii%5D%09%5BLWii%5D%09wkw%7Ewkw%094SSjuF3E-E3S4-kEff-jFUU-So4oF3kkouU3%09%5BLWii%5D%09&r=1&ptt=' with link or location/anchor > 255 characters since it exceeds Excel's limit for URLS\n",
      "  force_unicode(url))\n",
      "C:\\Users\\devdi\\Anaconda3\\lib\\site-packages\\xlsxwriter\\worksheet.py:830: UserWarning: Ignoring URL 'http://local.subway.com/fwpcons/frmResult.aspx?ResultMsg=%3cfont%20size='6'%3eOops!%3c/font%3e%3cbr/%3eWe're%20sorry,%20the%20page%20you%20are%20looking%20for%20is%20either%20not%20found%20or%20has%20generated%20this%20error.%20%20If%20this%20occurs%20regularly,%20please%20contact%20the%20SUBWAY%20%20Web%20Team.&Error=1' with link or location/anchor > 255 characters since it exceeds Excel's limit for URLS\n",
      "  force_unicode(url))\n",
      "C:\\Users\\devdi\\Anaconda3\\lib\\site-packages\\xlsxwriter\\worksheet.py:830: UserWarning: Ignoring URL 'http://maps.google.com/maps/place?oe=utf-8&rls=org.mozilla:en-US:official&client=firefox-a&um=1&ie=UTF-8&q=the%20viking%20tavern%20spokane%20wa&fb=1&gl=us&hq=the%20viking%20tavern&hnear=0x549e185c30bbe7e5:0xddfcc9d60b84d9b1,Spokane,%20WA&cid=7286429845809543666&ei=UEtuToOxFaLjiALM7rSgDg&sa=X&oi=local_result&ct=placepage-link&resnum=1&ved=0CB8Q4gkwAA' with link or location/anchor > 255 characters since it exceeds Excel's limit for URLS\n",
      "  force_unicode(url))\n",
      "C:\\Users\\devdi\\Anaconda3\\lib\\site-packages\\xlsxwriter\\worksheet.py:830: UserWarning: Ignoring URL 'http://www.hojo.com/hotels/florida/hialeah-gardens/howard-johnson-plaza-hotel-miami-airport/hotel-dining?partner_id=&hotel_id=14809&campaign_code=&propId=HJ14809&checkout_date&brand_id=HJ&children=0&corporate_id&ratePlan&teens=0&affiliate_id=&iata=&rate_code&adults=1&checkin_date&rooms=1' with link or location/anchor > 255 characters since it exceeds Excel's limit for URLS\n",
      "  force_unicode(url))\n"
     ]
    }
   ],
   "source": [
    "path = r\"C:/Users/devdi/Desktop/CMU/Final Mini/Python for Data Science/Project/Data.xlsx\"\n",
    "writer = pd.ExcelWriter(path, engine = 'xlsxwriter')\n",
    "data.to_excel(writer, sheet_name = 'TripAdvisor_raw')\n",
    "cleaned_data.to_excel(writer, sheet_name = 'TripAdvisor_clean')\n",
    "writer.save()\n",
    "writer.close()"
   ]
  }
 ],
 "metadata": {
  "kernelspec": {
   "display_name": "Python 3",
   "language": "python",
   "name": "python3"
  },
  "language_info": {
   "codemirror_mode": {
    "name": "ipython",
    "version": 3
   },
   "file_extension": ".py",
   "mimetype": "text/x-python",
   "name": "python",
   "nbconvert_exporter": "python",
   "pygments_lexer": "ipython3",
   "version": "3.6.3"
  }
 },
 "nbformat": 4,
 "nbformat_minor": 2
}
